{
  "nbformat": 4,
  "nbformat_minor": 0,
  "metadata": {
    "accelerator": "TPU",
    "colab": {
      "name": "Bird classification.ipynb",
      "provenance": [],
      "collapsed_sections": []
    },
    "kernelspec": {
      "display_name": "Python 3",
      "name": "python3"
    },
    "language_info": {
      "name": "python"
    }
  },
  "cells": [
    {
      "cell_type": "code",
      "metadata": {
        "colab": {
          "base_uri": "https://localhost:8080/"
        },
        "id": "yQGmY7FlvPcI",
        "outputId": "ddd43d61-50b5-4894-c22d-180679fd1773"
      },
      "source": [
        "# 데이터 : https://www.kaggle.com/gpiosenka/100-bird-species\n",
        "\n",
        "### Google colab과 Google Drive 마운트 ###\n",
        "from google.colab import drive\n",
        "drive.mount('/content/gdrive')"
      ],
      "execution_count": null,
      "outputs": [
        {
          "name": "stdout",
          "output_type": "stream",
          "text": [
            "Mounted at /content/gdrive\n"
          ]
        }
      ]
    },
    {
      "cell_type": "code",
      "metadata": {
        "colab": {
          "base_uri": "https://localhost:8080/"
        },
        "id": "uotTL1WzsfN0",
        "outputId": "f88b2357-c399-4ca2-c9d1-72ce8c47c94c"
      },
      "source": [
        "cd /content/gdrive/My Drive/data/.kaggle/285 birds/"
      ],
      "execution_count": null,
      "outputs": [
        {
          "name": "stdout",
          "output_type": "stream",
          "text": [
            "/content/gdrive/My Drive/data/.kaggle/285 birds\n"
          ]
        }
      ]
    },
    {
      "cell_type": "code",
      "metadata": {
        "id": "A2krIhLhc0J2"
      },
      "source": [
        "import pandas as pd\n",
        "import glob\n",
        "from PIL import Image\n",
        "import numpy as np\n",
        "import matplotlib.pyplot as plt\n",
        "import tensorflow as tf\n",
        "from keras.models import Sequential\n",
        "from tensorflow.keras.layers import Conv2D, MaxPooling2D, Flatten, Dense\n",
        "from tensorflow.keras.layers import Dropout\n"
      ],
      "execution_count": null,
      "outputs": []
    },
    {
      "cell_type": "code",
      "metadata": {
        "id": "4SdGb9Lg0cgK"
      },
      "source": [
        "df = pd.read_csv(\"./Bird Species.csv\")\n",
        "#df.head()"
      ],
      "execution_count": null,
      "outputs": []
    },
    {
      "cell_type": "code",
      "metadata": {
        "id": "8d8DLf2NU1si"
      },
      "source": [
        "dir='./'\n",
        "x_train,y_train,x_test,y_test,x_valid,y_valid=[],[],[],[],[],[]\n",
        "\n",
        "for i in range(len(df)):\n",
        "  # print(i)\n",
        "  if df[\"data set\"][i]==\"train\":\n",
        "    path=dir+df[\"filepaths\"][i]\n",
        "    img = Image.open(path)\n",
        "    data = np.array(img)\n",
        "    x_train.append(data)\n",
        "    y_train.append(df[\"labels\"][i])\n",
        "  if df[\"data set\"][i]==\"test\":\n",
        "    path=dir+df[\"filepaths\"][i]\n",
        "    img = Image.open(path)\n",
        "    data = np.array(img)\n",
        "    x_test.append(data)\n",
        "    y_test.append(df[\"labels\"][i])\n",
        "  elif df[\"data set\"][i]==\"valid\":\n",
        "    path=dir+df[\"filepaths\"][i]\n",
        "    img = Image.open(path)\n",
        "    data = np.array(img)\n",
        "    x_valid.append(data)\n",
        "    y_valid.append(df[\"labels\"][i])\n",
        "\n",
        "X_train = np.array(x_train)/255\n",
        "Y_train = np.array(y_train)/255\n",
        "X_test = np.array(x_test)/255\n",
        "Y_test = np.array(y_test)/255\n",
        "X_valid = np.array(x_valid)/255\n",
        "Y_valid = np.array(y_valid)/255"
      ],
      "execution_count": null,
      "outputs": []
    },
    {
      "cell_type": "code",
      "metadata": {
        "colab": {
          "base_uri": "https://localhost:8080/",
          "height": 244
        },
        "id": "lYNQJQ24VTvr",
        "outputId": "ded426e7-7a01-4ef4-e174-b03b1e82b84e"
      },
      "source": [
        ""
      ],
      "execution_count": null,
      "outputs": [
        {
          "ename": "NameError",
          "evalue": "ignored",
          "output_type": "error",
          "traceback": [
            "\u001b[0;31m---------------------------------------------------------------------------\u001b[0m",
            "\u001b[0;31mNameError\u001b[0m                                 Traceback (most recent call last)",
            "\u001b[0;32m<ipython-input-4-b88af60fce37>\u001b[0m in \u001b[0;36m<module>\u001b[0;34m()\u001b[0m\n\u001b[0;32m----> 1\u001b[0;31m \u001b[0mX_train\u001b[0m \u001b[0;34m=\u001b[0m \u001b[0mnp\u001b[0m\u001b[0;34m.\u001b[0m\u001b[0marray\u001b[0m\u001b[0;34m(\u001b[0m\u001b[0mx_train\u001b[0m\u001b[0;34m)\u001b[0m\u001b[0;34m\u001b[0m\u001b[0;34m\u001b[0m\u001b[0m\n\u001b[0m\u001b[1;32m      2\u001b[0m \u001b[0;31m# x_train=x_train.astype(\"float\")/255\u001b[0m\u001b[0;34m\u001b[0m\u001b[0;34m\u001b[0m\u001b[0;34m\u001b[0m\u001b[0m\n\u001b[1;32m      3\u001b[0m \u001b[0;31m# y_train=y_train/255\u001b[0m\u001b[0;34m\u001b[0m\u001b[0;34m\u001b[0m\u001b[0;34m\u001b[0m\u001b[0m\n\u001b[1;32m      4\u001b[0m \u001b[0;31m# x_test=x_test/255\u001b[0m\u001b[0;34m\u001b[0m\u001b[0;34m\u001b[0m\u001b[0;34m\u001b[0m\u001b[0m\n\u001b[1;32m      5\u001b[0m \u001b[0;31m# y_test=y_test/255\u001b[0m\u001b[0;34m\u001b[0m\u001b[0;34m\u001b[0m\u001b[0;34m\u001b[0m\u001b[0m\n",
            "\u001b[0;31mNameError\u001b[0m: name 'x_train' is not defined"
          ]
        }
      ]
    },
    {
      "cell_type": "code",
      "metadata": {
        "id": "1aQOev5zSoMi"
      },
      "source": [
        ""
      ],
      "execution_count": null,
      "outputs": []
    },
    {
      "cell_type": "code",
      "metadata": {
        "colab": {
          "background_save": true
        },
        "id": "H_l0pEcMbm3T"
      },
      "source": [
        ""
      ],
      "execution_count": null,
      "outputs": []
    },
    {
      "cell_type": "code",
      "metadata": {
        "id": "6Rq068ryV1q1"
      },
      "source": [
        ""
      ],
      "execution_count": null,
      "outputs": []
    }
  ]
}